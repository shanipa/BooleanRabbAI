{
 "cells": [
  {
   "cell_type": "code",
   "execution_count": 166,
   "metadata": {},
   "outputs": [],
   "source": [
    "from collections import OrderedDict\n",
    "import re\n",
    "import os\n",
    "import json\n",
    "import pickle"
   ]
  },
  {
   "cell_type": "code",
   "execution_count": 167,
   "metadata": {},
   "outputs": [],
   "source": [
    "def parse_parasha(path, sefer):\n",
    "    data = OrderedDict()\n",
    "    \n",
    "    perek = 0\n",
    "    pasuk = 0\n",
    "    for filename in sorted(os.listdir(path)):\n",
    "        cnt = 0\n",
    "        if os.path.isfile(os.path.join(path, filename)):\n",
    "            with open(f\"{path}/{filename}\", \"r\") as file:\n",
    "                for i,line in enumerate(file):\n",
    "                    if line in [\"\\n\", \"* * *\\n\"]:\n",
    "                        continue\n",
    "                    processed = line.replace(\"־\",\" \").replace(\"\\n\",\"\").replace(\"\\u2009\",\" \").replace(\"\\u200f[1]\",\"\").replace(\"\\u200f[2]\",\"\").split(\"׃\")\n",
    "                    if len(processed) != 2:\n",
    "                        continue\n",
    "                    if processed[1].endswith(\".\"): \n",
    "                        processed[1] = processed[1][:-1]\n",
    "                        processed[1] = \".\" + processed[1].strip()\n",
    "                    pasuk += 1\n",
    "\n",
    "                    if processed[0].split()[1] == \"א\":\n",
    "                        perek += 1\n",
    "                        pasuk = 1\n",
    "                        processed[0] = \" \".join(processed[0].split()[2:])\n",
    "                    else:\n",
    "                        processed[0] = \" \".join(processed[0].split()[1:])\n",
    "\n",
    "                    data[(sefer,perek,pasuk)] = (processed[0], processed[1])\n",
    "        #             print(processed[0])\n",
    "        #             print(processed[1])\n",
    "                    cnt +=1\n",
    "        print(cnt)\n",
    "    return data\n",
    "            \n"
   ]
  },
  {
   "cell_type": "code",
   "execution_count": 168,
   "metadata": {},
   "outputs": [
    {
     "name": "stdout",
     "output_type": "stream",
     "text": [
      "0\n",
      "146\n",
      "153\n",
      "126\n",
      "147\n",
      "105\n",
      "106\n",
      "148\n",
      "153\n",
      "112\n",
      "146\n",
      "106\n",
      "85\n",
      "124\n",
      "121\n",
      "106\n",
      "116\n",
      "74\n",
      "118\n",
      "96\n",
      "101\n",
      "139\n",
      "122\n",
      "92\n",
      "111\n",
      "97\n",
      "91\n",
      "67\n",
      "90\n",
      "80\n",
      "64\n",
      "124\n",
      "57\n",
      "78\n",
      "159\n",
      "176\n",
      "136\n",
      "119\n",
      "95\n",
      "87\n",
      "104\n",
      "167\n",
      "112\n",
      "132\n",
      "105\n",
      "121\n",
      "112\n",
      "126\n",
      "97\n",
      "110\n",
      "122\n",
      "40\n",
      "30\n",
      "52\n",
      "41\n"
     ]
    }
   ],
   "source": [
    "data = parse_parasha(\"genesis\", \"בראשית\") \n",
    "data.update(parse_parasha(\"shmot\", \"שמות\"))\n",
    "data.update(parse_parasha(\"vaykra\", \"ויקרא\"))             \n",
    "data.update(parse_parasha(\"bamidbar\", \"במדבר\"))             \n",
    "data.update(parse_parasha(\"dvarim\", \"דברים\"))             "
   ]
  },
  {
   "cell_type": "code",
   "execution_count": 170,
   "metadata": {},
   "outputs": [],
   "source": [
    "f = open(\"tanach_mevoar.pkl\", \"wb\")\n",
    "pickle.dump(data, f)\n",
    "f.close()"
   ]
  },
  {
   "cell_type": "code",
   "execution_count": null,
   "metadata": {},
   "outputs": [],
   "source": []
  }
 ],
 "metadata": {
  "kernelspec": {
   "display_name": "pythonProject",
   "language": "python",
   "name": "pythonproject"
  },
  "language_info": {
   "codemirror_mode": {
    "name": "ipython",
    "version": 3
   },
   "file_extension": ".py",
   "mimetype": "text/x-python",
   "name": "python",
   "nbconvert_exporter": "python",
   "pygments_lexer": "ipython3",
   "version": "3.8.3"
  }
 },
 "nbformat": 4,
 "nbformat_minor": 4
}
